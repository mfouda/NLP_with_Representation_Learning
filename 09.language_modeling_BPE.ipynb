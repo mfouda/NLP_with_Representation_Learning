{
 "cells": [
  {
   "cell_type": "markdown",
   "metadata": {},
   "source": [
    "# 09. Language Modeling with Byte Pair Encoding (BPE)\n",
    "\n",
    "In this notebook, we are going to build a language model using pytorch.  \n",
    "Same as last session, we will use the preprocessed Penn Treebank (Wall Street Journal) dataset from here: https://github.com/townie/PTB-dataset-from-Tomas-Mikolov-s-webpage/tree/master/data.\n",
    "\n",
    "Instead of using word and character tokens, we are going to use **subwords** - words can be furthur broken down into subword units which usually have meaning.\n",
    "\n",
    "Example:  \n",
    "  - basketball => basket@@ ball  \n",
    "  - everyday => every@@ day\n",
    "\n",
    "'@@ ' here denotes continuation of a word.\n",
    "\n",
    "**Byte Pair Encoding (BPE)** creates common tokens that can be used to spilt out-of-vocabulary words.\n",
    "\n",
    "Install subword-nmt for BPE tokenization:\n",
    "    `pip install subword-nmt`"
   ]
  },
  {
   "cell_type": "markdown",
   "metadata": {},
   "source": [
    "## 1. Tokenization with Byte Pair Encoding\n",
    "\n",
    "### 1.1 Learn BPE tokens\n",
    "First, we are going to learn 10000 most common units from splitting OOV words using training data."
   ]
  },
  {
   "cell_type": "code",
   "execution_count": 1,
   "metadata": {
    "collapsed": true
   },
   "outputs": [],
   "source": [
    "# Learn a bpe vocabulary using subword-nmt \n",
    "!subword-nmt learn-bpe -s 10000 < data/ptb.train.txt > data/codes.bpe"
   ]
  },
  {
   "cell_type": "markdown",
   "metadata": {},
   "source": [
    "### 1.2 Apply BEP \n",
    "Apply BPE to the train, test and valid data."
   ]
  },
  {
   "cell_type": "code",
   "execution_count": 2,
   "metadata": {
    "collapsed": true
   },
   "outputs": [],
   "source": [
    "# Apply bpe to the data files\n",
    "!subword-nmt apply-bpe -c data/codes.bpe < data/ptb.train.txt > data/ptb.train.bpe.txt\n",
    "!subword-nmt apply-bpe -c data/codes.bpe < data/ptb.test.txt > data/ptb.test.bpe.txt\n",
    "!subword-nmt apply-bpe -c data/codes.bpe < data/ptb.valid.txt > data/ptb.valid.bpe.txt"
   ]
  },
  {
   "cell_type": "markdown",
   "metadata": {},
   "source": [
    "Let's check the bpe coded file we just created!"
   ]
  },
  {
   "cell_type": "code",
   "execution_count": 3,
   "metadata": {},
   "outputs": [
    {
     "name": "stdout",
     "output_type": "stream",
     "text": [
      " a@@ er ban@@ kno@@ te ber@@ l@@ it@@ z cal@@ low@@ ay cen@@ trust clu@@ et@@ t fro@@ m@@ stein g@@ it@@ an@@ o gu@@ ter@@ man hy@@ dro@@ -@@ quebec ip@@ o k@@ ia me@@ mo@@ te@@ c m@@ l@@ x na@@ h@@ b p@@ un@@ ts r@@ ake reg@@ att@@ a ru@@ ben@@ s si@@ m sn@@ ac@@ k-@@ food s@@ san@@ gy@@ ong sw@@ ap@@ o w@@ ach@@ ter \n",
      " pi@@ er@@ re <unk> N years old will join the board as a non@@ executive director nov. N \n",
      " mr. <unk> is chairman of <unk> n.v. the dutch publishing group \n",
      " ru@@ dol@@ ph <unk> N years old and former chairman of consolidated gold fields plc was named a non@@ executive director of this british industrial conglomerate \n",
      " a form of asbestos once used to make k@@ ent cigarette fil@@ ters has caused a high percentage of cancer deaths among a group of workers exposed to it more than N years ago researchers reported \n",
      " the asbestos fi@@ ber <unk> is unusually <unk> once it ent@@ ers the <unk> with even brief expo@@ sures to it causing symptoms that show up decades later researchers said \n",
      " <unk> inc. the unit of new york-based <unk> corp. that makes k@@ ent cigarettes stopped using <unk> in its <unk> cigarette fil@@ ters in N \n",
      " although preliminary findings were reported more than a year ago the latest results appear in today 's new england journal of medicine a for@@ um likely to bring new attention to the problem \n",
      " a <unk> <unk> said this is an old story \n",
      " we 're talking about years ago before anyone heard of asbestos having any questionable properties \n"
     ]
    }
   ],
   "source": [
    "!head data/ptb.train.bpe.txt"
   ]
  },
  {
   "cell_type": "markdown",
   "metadata": {},
   "source": [
    "### 1.3 Tokenization"
   ]
  },
  {
   "cell_type": "code",
   "execution_count": 4,
   "metadata": {
    "collapsed": true
   },
   "outputs": [],
   "source": [
    "import torch\n",
    "import torch.nn as nn\n",
    "import torch.nn.functional as F\n",
    "from collections import Counter\n",
    "import pickle as pkl\n",
    "import math\n",
    "import random\n",
    "import numpy as np\n",
    "random.seed(1111)"
   ]
  },
  {
   "cell_type": "code",
   "execution_count": 5,
   "metadata": {
    "collapsed": true
   },
   "outputs": [
    {
     "name": "stdout",
     "output_type": "stream",
     "text": [
      "Tokenizing val data...\n",
      "Tokenizing test data...\n",
      "Tokenizing train data...\n"
     ]
    }
   ],
   "source": [
    "import pickle as pkl\n",
    "\n",
    "def tokenize_dataset(dataset): \n",
    "    token_dataset = []\n",
    "    # we are keeping track of all tokens in dataset \n",
    "    # in order to create vocabulary later\n",
    "    all_tokens = []\n",
    "    \n",
    "    with open(dataset, 'r') as dataset_file:\n",
    "        for sample in dataset_file:\n",
    "            tokens = sample.strip().split() + ['</s>']\n",
    "            #token_dataset.append(tokens)\n",
    "            all_tokens += tokens\n",
    "\n",
    "    return all_tokens\n",
    "\n",
    "val_data = 'data/ptb.valid.bpe.txt'\n",
    "test_data = 'data/ptb.test.bpe.txt'\n",
    "train_data = 'data/ptb.train.bpe.txt'\n",
    "\n",
    "# COMMENT the following if you have the files from previous notebook 08.language_modeling_KenLM\n",
    "# validation set tokens\n",
    "print (\"Tokenizing val data...\")\n",
    "val_data_tokens = tokenize_dataset(val_data)\n",
    "pkl.dump(val_data_tokens, open(\"data/val_bpe_tokens.p\", \"wb\"))\n",
    "\n",
    "# test set tokens\n",
    "print (\"Tokenizing test data...\")\n",
    "test_data_tokens = tokenize_dataset(test_data)\n",
    "pkl.dump(test_data_tokens, open(\"data/test_bpe_tokens.p\", \"wb\"))\n",
    "\n",
    "# train set tokens\n",
    "print (\"Tokenizing train data...\")\n",
    "train_data_tokens = tokenize_dataset(train_data)\n",
    "pkl.dump(train_data_tokens, open(\"data/train_bpe_tokens.p\", \"wb\"))"
   ]
  },
  {
   "cell_type": "code",
   "execution_count": 7,
   "metadata": {},
   "outputs": [
    {
     "name": "stdout",
     "output_type": "stream",
     "text": [
      "Train dataset size is 973446\n",
      "Val dataset size is 78354\n",
      "Test dataset size is 85981\n"
     ]
    }
   ],
   "source": [
    "# Then, load preprocessed train, val and test datasets\n",
    "train_data_tokens = pkl.load(open(\"data/train_bpe_tokens.p\", \"rb\"))\n",
    "val_data_tokens = pkl.load(open(\"data/val_bpe_tokens.p\", \"rb\"))\n",
    "test_data_tokens = pkl.load(open(\"data/test_bpe_tokens.p\", \"rb\"))\n",
    "\n",
    "print (\"Train dataset size is {}\".format(len(train_data_tokens)))\n",
    "print (\"Val dataset size is {}\".format(len(val_data_tokens)))\n",
    "print (\"Test dataset size is {}\".format(len(test_data_tokens)))"
   ]
  },
  {
   "cell_type": "markdown",
   "metadata": {},
   "source": [
    "## 2. Build Vocabulary\n",
    "\n",
    "Similar to previous sessions, we build a vocabulary with most common 20,000 tokens."
   ]
  },
  {
   "cell_type": "code",
   "execution_count": 8,
   "metadata": {
    "collapsed": true
   },
   "outputs": [],
   "source": [
    "from collections import Counter\n",
    "\n",
    "# same as previous notebooks\n",
    "max_vocab_size = 20000\n",
    "def build_vocab(all_tokens):\n",
    "    # Returns:\n",
    "    # id2token: list of tokens, where id2token[i] returns token that corresponds to token i\n",
    "    # token2id: dictionary where keys represent tokens and corresponding values represent indices\n",
    "    token_counter = Counter(all_tokens)\n",
    "    vocab, count = zip(*token_counter.most_common(max_vocab_size))\n",
    "    id2token = list(vocab)\n",
    "    token2id = dict(zip(vocab, range(0,len(vocab)))) \n",
    "    return token2id, id2token\n",
    "\n",
    "token2id, id2token = build_vocab(train_data_tokens)"
   ]
  },
  {
   "cell_type": "code",
   "execution_count": 9,
   "metadata": {},
   "outputs": [
    {
     "name": "stdout",
     "output_type": "stream",
     "text": [
      "Train dataset size is 973446\n",
      "Val dataset size is 78354\n",
      "Test dataset size is 85981\n"
     ]
    }
   ],
   "source": [
    "# convert token to id in the dataset\n",
    "def token2index_dataset(tokens_data):\n",
    "    indices_data = []\n",
    "    for token in tokens_data:\n",
    "        token_id = token2id[token] if token in token2id else token2id['<unk>'] \n",
    "        indices_data.append(token_id)\n",
    "    return indices_data\n",
    "\n",
    "train_data_indices = torch.LongTensor(token2index_dataset(train_data_tokens))\n",
    "val_data_indices = torch.LongTensor(token2index_dataset(val_data_tokens))\n",
    "test_data_indices = torch.LongTensor(token2index_dataset(test_data_tokens))\n",
    "\n",
    "# double checking\n",
    "print (\"Train dataset size is {}\".format(len(train_data_indices)))\n",
    "print (\"Val dataset size is {}\".format(len(val_data_indices)))\n",
    "print (\"Test dataset size is {}\".format(len(test_data_indices)))"
   ]
  },
  {
   "cell_type": "markdown",
   "metadata": {},
   "source": [
    "We are going to learn the language model for the whole training corpus starting from sequential data, \n",
    "batchify arranges the dataset into columns. For instance, with the alphabet as the sequence and batch size 4, we'd get\n",
    "  ```\n",
    "  ┌ a g m s ┐\n",
    "  │ b h n t │\n",
    "  │ c i o u │\n",
    "  │ d j p v │\n",
    "  │ e k q w │\n",
    "  └ f l r x ┘\n",
    "  ```"
   ]
  },
  {
   "cell_type": "markdown",
   "metadata": {},
   "source": [
    "**Why???**"
   ]
  },
  {
   "cell_type": "code",
   "execution_count": 10,
   "metadata": {
    "collapsed": true
   },
   "outputs": [],
   "source": [
    "def batchify(data, bsz, random_start_idx=False):\n",
    "    # calculate total number of batches that fit cleanly\n",
    "    nbatch = data.size(0) // bsz\n",
    "    if random_start_idx:\n",
    "        start_idx = random.randint(0, data.size(0) % bsz - 1)\n",
    "    else:\n",
    "        start_idx = 0\n",
    "        \n",
    "    # Trim off any extra elements that wouldn't cleanly fit (remainders).\n",
    "    # Nice thing about this: \n",
    "    # you don't need to pad since every sequence now has same length\n",
    "    data = data.narrow(0, start_idx, nbatch * bsz)\n",
    "    \n",
    "    # Evenly divide the data across the bsz batches.\n",
    "    data = data.view(bsz, -1).t().contiguous()\n",
    "    return data"
   ]
  },
  {
   "cell_type": "code",
   "execution_count": 11,
   "metadata": {
    "collapsed": true
   },
   "outputs": [],
   "source": [
    "eval_batch_size = 32\n",
    "val_data = batchify(val_data_indices, eval_batch_size)\n",
    "test_data = batchify(test_data_indices, eval_batch_size)"
   ]
  },
  {
   "cell_type": "markdown",
   "metadata": {},
   "source": [
    "## 3. Using RNN Model"
   ]
  },
  {
   "cell_type": "markdown",
   "metadata": {},
   "source": [
    "### 3.1 Build a Learning Model with RNN"
   ]
  },
  {
   "cell_type": "code",
   "execution_count": 17,
   "metadata": {
    "collapsed": true
   },
   "outputs": [],
   "source": [
    "import torch.nn as nn\n",
    "\n",
    "class RNNModel(nn.Module):\n",
    "    def __init__(self, vocab_size, embed_size, hidden_size, num_layers, dropout=0.5):\n",
    "        super(RNNModel, self).__init__()\n",
    "        self.drop = nn.Dropout(dropout)\n",
    "        \n",
    "        self.encoder = nn.Embedding(vocab_size, embed_size)\n",
    "        self.rnn = nn.LSTM(embed_size, hidden_size, num_layers, dropout=dropout)\n",
    "        self.decoder = nn.Linear(hidden_size, vocab_size)\n",
    "\n",
    "        self.init_weights()\n",
    "        self.hidden_size = hidden_size\n",
    "        self.num_layers = num_layers\n",
    "\n",
    "    def init_weights(self):\n",
    "        initrange = 0.1\n",
    "        self.encoder.weight.data.uniform_(-initrange, initrange)\n",
    "        self.decoder.bias.data.zero_()\n",
    "        self.decoder.weight.data.uniform_(-initrange, initrange)\n",
    "\n",
    "    def forward(self, input, hidden):\n",
    "        emb = self.drop(self.encoder(input))\n",
    "        output, hidden = self.rnn(emb, hidden)\n",
    "        output = self.drop(output)\n",
    "        decoded = self.decoder(output.view(output.size(0)*output.size(1), output.size(2)))\n",
    "        return decoded.view(output.size(0), output.size(1), decoded.size(1)), hidden\n",
    "\n",
    "    def init_hidden(self, bsz):\n",
    "        weight = next(self.parameters())\n",
    "        return (weight.new_zeros(self.num_layers, bsz, self.hidden_size),\n",
    "                    weight.new_zeros(self.num_layers, bsz, self.hidden_size))"
   ]
  },
  {
   "cell_type": "code",
   "execution_count": 18,
   "metadata": {
    "collapsed": true
   },
   "outputs": [],
   "source": [
    "embed_size = 200\n",
    "hidden_size = 400\n",
    "num_layers = 2\n",
    "num_epochs = 10\n",
    "batch_size = 32\n",
    "lr = 0.1\n",
    "dropout = 0.3\n",
    "max_seq_len = 35\n",
    "vocab_size = len(token2id)\n",
    "model = RNNModel(vocab_size, embed_size, hidden_size, num_layers, dropout)\n"
   ]
  },
  {
   "cell_type": "markdown",
   "metadata": {},
   "source": [
    "The following `get_batch` subdivides the source data into chunks of max_seq_len.\n",
    "If source is equal to the example output of the batchify function, with\n",
    "`max_seq_len = 2`, we'd get the following two Variables for i = 0:\n",
    "```\n",
    "┌ a g m s ┐ ┌ b h n t ┐\n",
    "└ b h n t ┘ └ c i o u ┘\n",
    "```"
   ]
  },
  {
   "cell_type": "code",
   "execution_count": 19,
   "metadata": {
    "collapsed": true
   },
   "outputs": [],
   "source": [
    "def get_batch(source, i, max_seq_len):\n",
    "    seq_len = min(max_seq_len, len(source) - 1 - i)\n",
    "    data = source[i:i+seq_len]\n",
    "    target = source[i+1:i+1+seq_len].view(-1)\n",
    "    return data, target\n"
   ]
  },
  {
   "cell_type": "code",
   "execution_count": 20,
   "metadata": {
    "collapsed": true
   },
   "outputs": [],
   "source": [
    "clip = 0.3\n",
    "log_interval = 200\n",
    "\n",
    "def repackage_hidden(h):\n",
    "    \"\"\"\n",
    "        Wraps hidden states in new Tensors, to detach them from their history.\n",
    "    \"\"\"\n",
    "    if isinstance(h, torch.Tensor):\n",
    "        return h.detach()\n",
    "    else:\n",
    "        return tuple(repackage_hidden(v) for v in h)\n",
    "    \n",
    "def train():\n",
    "    model.train()\n",
    "    total_loss = 0.\n",
    "    hidden = model.init_hidden(batch_size)\n",
    "    \n",
    "    # We shuffle train data every epoch\n",
    "    train_data = batchify(train_data_indices, batch_size, random_start_idx=True)\n",
    "    \n",
    "    for batch, i in enumerate(range(0, train_data.size(0) - 1, max_seq_len)):\n",
    "        data, targets = get_batch(train_data, i, max_seq_len)\n",
    "        \n",
    "        # Starting each batch, we detach the hidden state from how it was previously produced.\n",
    "        # If we didn't, the model would try backpropagating all the way to start of the dataset.\n",
    "        hidden = repackage_hidden(hidden)\n",
    "        model.zero_grad()\n",
    "        \n",
    "        output, hidden = model(data, hidden)\n",
    "        loss = criterion(output.view(-1, vocab_size), targets)\n",
    "        loss.backward()\n",
    "\n",
    "        # `clip_grad_norm` helps prevent the exploding gradient problem\n",
    "        torch.nn.utils.clip_grad_norm_(model.parameters(), clip)\n",
    "        for p in model.parameters():\n",
    "            p.data.add_(-lr, p.grad.data)\n",
    "\n",
    "        total_loss += loss.item()\n",
    "\n",
    "        if batch %log_interval == 0 and batch > 0:\n",
    "            cur_loss = total_loss / log_interval\n",
    "            \n",
    "            print('| epoch {:3d} | {:5d}/{:5d} batches | lr {:02.2f} | '\n",
    "                    'loss {:5.2f} | ppl {:8.2f}'.format(\n",
    "                epoch, batch, len(train_data) // max_seq_len, lr,\n",
    "                cur_loss, math.exp(cur_loss)))\n",
    "            total_loss = 0\n"
   ]
  },
  {
   "cell_type": "code",
   "execution_count": 21,
   "metadata": {
    "collapsed": true
   },
   "outputs": [],
   "source": [
    "# perplexity evaluation for a given corpus\n",
    "def evaluate(data_source, max_seq_len, eval_batch_size=32):\n",
    "    model.eval()\n",
    "    total_loss = 0.\n",
    "    hidden = model.init_hidden(eval_batch_size)\n",
    "    with torch.no_grad():\n",
    "        for i in range(0, data_source.size(0) - 1, max_seq_len):\n",
    "            data, targets = get_batch(data_source, i, max_seq_len)\n",
    "            \n",
    "            output, hidden = model(data, hidden)\n",
    "            output_flat = output.view(-1, vocab_size)\n",
    "            \n",
    "            total_loss += len(data) * criterion(output_flat, targets).item()\n",
    "            hidden = repackage_hidden(hidden)\n",
    "    return total_loss / len(data_source)"
   ]
  },
  {
   "cell_type": "code",
   "execution_count": 22,
   "metadata": {
    "collapsed": true
   },
   "outputs": [],
   "source": [
    "import numpy as np\n",
    "\n",
    "best_val_loss = np.inf\n",
    "criterion = nn.CrossEntropyLoss()"
   ]
  },
  {
   "cell_type": "markdown",
   "metadata": {},
   "source": [
    "Now train the model with following loop. But it takes a long time, see below."
   ]
  },
  {
   "cell_type": "code",
   "execution_count": null,
   "metadata": {
    "collapsed": true
   },
   "outputs": [],
   "source": [
    "for epoch in range(1, num_epochs+1):\n",
    "    train()\n",
    "    val_loss = evaluate(val_data, max_seq_len)\n",
    "    print('-' * 89)\n",
    "    print('| end of epoch {:3d} | valid loss {:5.2f} | '\n",
    "                'valid ppl {:8.2f}'.format(epoch, \n",
    "                                           val_loss, math.exp(val_loss)))\n",
    "    print('-' * 89)\n",
    "    # Save the model if the validation loss is the best we've seen so far.\n",
    "    if not best_val_loss or val_loss < best_val_loss:\n",
    "        with open('model.pt', 'wb') as f:\n",
    "            torch.save(model, f)\n",
    "        best_val_loss = val_loss\n",
    "    else:\n",
    "        # Anneal the learning rate if no improvement has been seen in the validation dataset.\n",
    "        lr /= 4.0\n"
   ]
  },
  {
   "cell_type": "markdown",
   "metadata": {},
   "source": [
    "### 3.2 Load a Pretrained Model"
   ]
  },
  {
   "cell_type": "markdown",
   "metadata": {},
   "source": [
    "You may come back after the above training loop is finished. Load your trained model:"
   ]
  },
  {
   "cell_type": "code",
   "execution_count": 46,
   "metadata": {},
   "outputs": [
    {
     "data": {
      "text/plain": [
       "RNNModel(\n",
       "  (drop): Dropout(p=0.3)\n",
       "  (encoder): Embedding(8382, 200)\n",
       "  (rnn): LSTM(200, 400, num_layers=2, dropout=0.3)\n",
       "  (decoder): Linear(in_features=400, out_features=8382, bias=True)\n",
       ")"
      ]
     },
     "execution_count": 46,
     "metadata": {},
     "output_type": "execute_result"
    }
   ],
   "source": [
    "with open('model.pt', 'rb') as f:\n",
    "    model = torch.load(f)\n",
    "    \n",
    "model"
   ]
  },
  {
   "cell_type": "markdown",
   "metadata": {},
   "source": [
    "## 4. Evaluation and Comparison"
   ]
  },
  {
   "cell_type": "markdown",
   "metadata": {},
   "source": [
    "### 4.1 Test-set Perplexity\n",
    "\n",
    "#### Perplexity on Test-set with Trained RNN Model"
   ]
  },
  {
   "cell_type": "markdown",
   "metadata": {},
   "source": [
    "Evaluate the perplexity of pre-trained model on test set"
   ]
  },
  {
   "cell_type": "code",
   "execution_count": 47,
   "metadata": {},
   "outputs": [
    {
     "name": "stdout",
     "output_type": "stream",
     "text": [
      "test perplexity:  157.5481502379404\n"
     ]
    }
   ],
   "source": [
    "test_loss = evaluate(test_data, max_seq_len)\n",
    "print(\"test perplexity: \", math.exp(test_loss))"
   ]
  },
  {
   "cell_type": "markdown",
   "metadata": {},
   "source": [
    "#### Perplexity on Test-set with Pre-trained KenLM"
   ]
  },
  {
   "cell_type": "markdown",
   "metadata": {},
   "source": [
    "Load the pre-train KenLM model."
   ]
  },
  {
   "cell_type": "code",
   "execution_count": 48,
   "metadata": {
    "collapsed": true
   },
   "outputs": [],
   "source": [
    "import kenlm\n",
    "\n",
    "# calculate perplexity for KenLM\n",
    "def get_ppl(lm, sentences):\n",
    "    \"\"\"\n",
    "    Assume sentences is a list of strings (space delimited sentences)\n",
    "    \"\"\"\n",
    "    total_nll = 0\n",
    "    total_wc = 0\n",
    "    ppl_list = []\n",
    "    for sent in sentences:\n",
    "        words = sent.strip().split()\n",
    "        score = lm.score(sent, bos=False, eos=False)\n",
    "        word_count = len(words)\n",
    "        if word_count <=0:\n",
    "            continue\n",
    "        total_wc += word_count\n",
    "        total_nll += score\n",
    "        sent_ppl = 10**(-score/word_count)\n",
    "        ppl_list.append((sent, sent_ppl))\n",
    "    ppl = 10**-(total_nll/total_wc)\n",
    "    return ppl, ppl_list\n"
   ]
  },
  {
   "cell_type": "markdown",
   "metadata": {},
   "source": [
    "Use sed to remove <unk> tokens:"
   ]
  },
  {
   "cell_type": "code",
   "execution_count": 49,
   "metadata": {},
   "outputs": [],
   "source": [
    "!sed -e 's/<unk>//g' data/ptb.test.txt > data/ptb.test.nounk.txt"
   ]
  },
  {
   "cell_type": "code",
   "execution_count": 50,
   "metadata": {},
   "outputs": [
    {
     "name": "stdout",
     "output_type": "stream",
     "text": [
      "total test ppl (KenLM):  260.13758257335195\n"
     ]
    }
   ],
   "source": [
    "with open('data/ptb.test.nounk.txt', 'r') as f:\n",
    "    sentences = [sent.strip() for sent in f]\n",
    "    \n",
    "kenlm_model = kenlm.LanguageModel('data/ptb_lm_2gram.arpa')\n",
    "kenlm_ppl, sent_ppl_list = get_ppl(kenlm_model, sentences)\n",
    "\n",
    "print(\"total test ppl (KenLM): \", kenlm_ppl)"
   ]
  },
  {
   "cell_type": "code",
   "execution_count": 51,
   "metadata": {},
   "outputs": [
    {
     "data": {
      "text/plain": [
       "[(\"no it was n't black monday\", 244.2144113575105),\n",
       " (\"but while the new york stock exchange did n't fall apart friday as the dow jones industrial average plunged N points most of it in the final hour it barely managed to stay this side of chaos\",\n",
       "  98.82167725339345),\n",
       " ('some circuit breakers installed after the october N crash failed their first test traders say unable to cool the selling panic in both stocks and futures',\n",
       "  437.0089302511858),\n",
       " (\"the N stock specialist firms on the big board floor the buyers and sellers of last resort who were criticized after the N crash once again could n't handle the selling pressure\",\n",
       "  208.62356173241537),\n",
       " ('big investment banks refused to step up to the plate to support the beleaguered floor traders by buying big blocks of stock traders say',\n",
       "  189.5969019138085)]"
      ]
     },
     "execution_count": 51,
     "metadata": {},
     "output_type": "execute_result"
    }
   ],
   "source": [
    "sent_ppl_list[0:5]"
   ]
  },
  {
   "cell_type": "markdown",
   "metadata": {},
   "source": [
    "### 4.2 Sentence Evaluation"
   ]
  },
  {
   "cell_type": "markdown",
   "metadata": {},
   "source": [
    "Let's define a test function that get the perplexity of each sentence."
   ]
  },
  {
   "cell_type": "code",
   "execution_count": 52,
   "metadata": {
    "collapsed": true
   },
   "outputs": [],
   "source": [
    "def test(sent_list):\n",
    "    ppl_list = []\n",
    "    for sent in sent_list:\n",
    "        tokens = token2index_dataset(sent.strip().split())\n",
    "        test_sent_idx = batchify(torch.LongTensor([tokens]), 1)\n",
    "        loss = evaluate(test_sent_idx, len(tokens), 1)\n",
    "        ppl_list.append((sent, math.exp(loss)))\n",
    "    return ppl_list\n"
   ]
  },
  {
   "cell_type": "markdown",
   "metadata": {},
   "source": [
    "#### 4.2.1 Score Sentences with RNN Language Model"
   ]
  },
  {
   "cell_type": "code",
   "execution_count": 53,
   "metadata": {},
   "outputs": [
    {
     "data": {
      "text/plain": [
       "[('dividend yields have been bolstered by stock declines', 224.53397571880902),\n",
       " ('stock bolstered declines dividend by yields have been', 799.748801995527),\n",
       " ('artificial neural networks are computing systems vaguely inspired by the biological neural networks',\n",
       "  209.6127835044707)]"
      ]
     },
     "execution_count": 53,
     "metadata": {},
     "output_type": "execute_result"
    }
   ],
   "source": [
    "sent_list = ['dividend yields have been bolstered by stock declines', \\\n",
    "             'stock bolstered declines dividend by yields have been', \\\n",
    "             'artificial neural networks are computing systems vaguely inspired by the biological neural networks']\n",
    "test(sent_list)\n"
   ]
  },
  {
   "cell_type": "markdown",
   "metadata": {},
   "source": [
    "#### 4.2.2 Score the same list of sentences with KenLM"
   ]
  },
  {
   "cell_type": "code",
   "execution_count": 54,
   "metadata": {},
   "outputs": [
    {
     "data": {
      "text/plain": [
       "[('dividend yields have been bolstered by stock declines', 466.40009558112047),\n",
       " ('stock bolstered declines dividend by yields have been', 1818.5723239644926),\n",
       " ('artificial neural networks are computing systems vaguely inspired by the biological neural networks',\n",
       "  9918.597743710336)]"
      ]
     },
     "execution_count": 54,
     "metadata": {},
     "output_type": "execute_result"
    }
   ],
   "source": [
    "total_ppl, sent_list_ppl = get_ppl(kenlm_model, sent_list)\n",
    "sent_list_ppl\n"
   ]
  },
  {
   "cell_type": "markdown",
   "metadata": {},
   "source": [
    "We can see that **RNN LM can generalize well and assign lower perplexity** of grammatically correct, out-of-domain sentence, which is not the case with KenLM."
   ]
  },
  {
   "cell_type": "markdown",
   "metadata": {},
   "source": [
    "# 5. Further Exploration\n",
    "\n",
    "1. Find the perplexity of all sentences in test set using RNN_LM and KenLM. Compare the 10 sentences with lowest and highest perplexity produced by each model. Analyze what kind of sentences are preferred by each model.\n",
    "\n",
    "2. Train the character level language model and compare the performance.  \n",
    "\n",
    "2. Create an autocomplete function using the pretrained language model. Example, given a partial sentence, predict the next word.  \n",
    "\n",
    "3. What is the perplexity if your language model always output uniform distribution, i.e your language model assigns the equal probability to all the tokens in the vocabulary.  \n",
    "\n",
    "4. Build a convolutional language model. (Reference: https://arxiv.org/abs/1612.08083)"
   ]
  }
 ],
 "metadata": {
  "kernelspec": {
   "display_name": "Python 3",
   "language": "python",
   "name": "python3"
  },
  "language_info": {
   "codemirror_mode": {
    "name": "ipython",
    "version": 3
   },
   "file_extension": ".py",
   "mimetype": "text/x-python",
   "name": "python",
   "nbconvert_exporter": "python",
   "pygments_lexer": "ipython3",
   "version": "3.6.6"
  }
 },
 "nbformat": 4,
 "nbformat_minor": 2
}
